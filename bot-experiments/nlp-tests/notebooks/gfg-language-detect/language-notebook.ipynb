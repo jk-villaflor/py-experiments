{
 "cells": [
  {
   "cell_type": "code",
   "execution_count": 31,
   "metadata": {},
   "outputs": [
    {
     "name": "stdout",
     "output_type": "stream",
     "text": [
      "en\n",
      "ru\n",
      "es\n",
      "no\n",
      "hi\n",
      "ja\n"
     ]
    }
   ],
   "source": [
    "# Python program to demonstrate\n",
    "# langdetect\n",
    "\n",
    "\n",
    "from langdetect import detect\n",
    "\n",
    "\n",
    "# Specifying the language for\n",
    "# detection\n",
    "print(detect(\"Geeksforgeeks is a computer science portal for geeks\"))\n",
    "print(detect(\"Geeksforgeeks - это компьютерный портал для гиков\"))\n",
    "print(detect(\"Geeksforgeeks es un portal informático para geeks\"))\n",
    "print(detect(\"Geeksforgeeks是面向极客的计算机科学门户\"))\n",
    "print(detect(\"Geeksforgeeks geeks के लिए एक कंप्यूटर विज्ञान पोर्टल है\"))\n",
    "print(detect(\"Geeksforgeeksは、ギーク向けのコンピューターサイエンスポータルです。\"))"
   ]
  },
  {
   "cell_type": "code",
   "execution_count": 32,
   "metadata": {},
   "outputs": [
    {
     "name": "stdout",
     "output_type": "stream",
     "text": [
      "tl\n",
      "id\n",
      "tl\n"
     ]
    }
   ],
   "source": [
    "print(detect(\"mabuhay\")) # apparently they can detect tagalog as well. \n",
    "# the only issue is that the language itself is a bit complicated. it has 'borrowed' words from other langauges\n",
    "# when used in these models, it fails to be classified. example below\n"
   ]
  },
  {
   "cell_type": "code",
   "execution_count": 33,
   "metadata": {},
   "outputs": [
    {
     "name": "stdout",
     "output_type": "stream",
     "text": [
      "id\n"
     ]
    }
   ],
   "source": [
    "print(detect(\"putaena ka\")) # classified as indonesian. "
   ]
  },
  {
   "cell_type": "code",
   "execution_count": 34,
   "metadata": {},
   "outputs": [
    {
     "name": "stdout",
     "output_type": "stream",
     "text": [
      "tl\n"
     ]
    }
   ],
   "source": [
    "# but by using properly constructed tagalog sentences, it identifies the language better.\n",
    "\n",
    "print(detect(\"putangina mo\"))"
   ]
  },
  {
   "cell_type": "code",
   "execution_count": 38,
   "metadata": {},
   "outputs": [
    {
     "name": "stdout",
     "output_type": "stream",
     "text": [
      "('en', -119.93012762069702)\n",
      "('ru', -641.3409600257874)\n",
      "('es', -191.01083326339722)\n",
      "('zh', -199.18277835845947)\n",
      "('hi', -286.99300467967987)\n",
      "('ja', -875.6610476970673)\n",
      "('tl', -15.750556230545044)\n",
      "('tl', -14.941755056381226)\n",
      "('en', 9.061840057373047)\n"
     ]
    }
   ],
   "source": [
    "# Python program to demonstrate\n",
    "# langid\n",
    "  \n",
    "  \n",
    "import langid\n",
    "  \n",
    "  \n",
    "L = [\"Geeksforgeeks is a computer science portal for geeks\",\n",
    "    \"Geeksforgeeks - это компьютерный портал для гиков\",\n",
    "    \"Geeksforgeeks es un portal informático para geeks\",\n",
    "    \"Geeksforgeeks是面向极客的计算机科学门户\",\n",
    "    \"Geeksforgeeks geeks के लिए एक कंप्यूटर विज्ञान पोर्टल है\",\n",
    "    \"Geeksforgeeksは、ギーク向けのコンピューターサイエンスポータルです。\",\n",
    "    \"mabuhay\",\n",
    "    \"putang ina mo \",\n",
    "    \"mabuti naman ako\",\n",
    "    ]\n",
    "  \n",
    "for i in L:\n",
    "      \n",
    "    # Language detection\n",
    "    print(langid.classify(i))"
   ]
  }
 ],
 "metadata": {
  "kernelspec": {
   "display_name": "base",
   "language": "python",
   "name": "python3"
  },
  "language_info": {
   "codemirror_mode": {
    "name": "ipython",
    "version": 3
   },
   "file_extension": ".py",
   "mimetype": "text/x-python",
   "name": "python",
   "nbconvert_exporter": "python",
   "pygments_lexer": "ipython3",
   "version": "3.9.12"
  },
  "orig_nbformat": 4,
  "vscode": {
   "interpreter": {
    "hash": "f08154012ddadd8e950e6e9e035c7a7b32c136e7647e9b7c77e02eb723a8bedb"
   }
  }
 },
 "nbformat": 4,
 "nbformat_minor": 2
}
