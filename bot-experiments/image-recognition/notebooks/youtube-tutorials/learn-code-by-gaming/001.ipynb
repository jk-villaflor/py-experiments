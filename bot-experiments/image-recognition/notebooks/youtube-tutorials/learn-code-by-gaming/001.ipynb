{
 "cells": [
  {
   "cell_type": "code",
   "execution_count": 3,
   "metadata": {},
   "outputs": [],
   "source": [
    "# tutorial from learn code by gaming\n",
    "# he used albion online image to detect cabages in a screenshot of the game.\n",
    "\n",
    "# import needed libraries\n",
    "import cv2 as cv\n",
    "import numpy as np\n",
    "\n",
    "haystack_tg_img = 'porings.jpg'\n",
    "needle_tg_img = 'poring.jpg'\n"
   ]
  },
  {
   "cell_type": "code",
   "execution_count": 4,
   "metadata": {},
   "outputs": [
    {
     "data": {
      "text/plain": [
       "(600, 1280, 3)"
      ]
     },
     "execution_count": 4,
     "metadata": {},
     "output_type": "execute_result"
    }
   ],
   "source": [
    "haystack_img = cv.imread('imgs/%s'% haystack_tg_img, cv.IMREAD_UNCHANGED) # full image of the screenshot\n",
    "haystack_img.shape"
   ]
  },
  {
   "cell_type": "code",
   "execution_count": 5,
   "metadata": {},
   "outputs": [
    {
     "data": {
      "text/plain": [
       "(43, 41, 3)"
      ]
     },
     "execution_count": 5,
     "metadata": {},
     "output_type": "execute_result"
    }
   ],
   "source": [
    "needle_img = cv.imread('imgs/%s'% needle_tg_img, cv.IMREAD_UNCHANGED) # his target image to be detected in the image\n",
    "needle_img.shape"
   ]
  },
  {
   "cell_type": "code",
   "execution_count": 7,
   "metadata": {},
   "outputs": [],
   "source": [
    "# used match templating to find the needle in the haystack. used TM_CCOEFF_NORMED algo as it lead to better results. should look into other or more\n",
    "result = cv.matchTemplate(haystack_img, needle_img, cv.TM_CCOEFF_NORMED) \n",
    "\n",
    "# test scripts\n",
    "# cv.imshow('Result', result)\n",
    "# cv.waitKey(0)\n",
    "# cv.destroyAllWindows"
   ]
  },
  {
   "cell_type": "code",
   "execution_count": 74,
   "metadata": {},
   "outputs": [
    {
     "name": "stdout",
     "output_type": "stream",
     "text": [
      "Best match top left position (1129, 474)\n",
      "Best match confidence 0.9954339861869812\n"
     ]
    }
   ],
   "source": [
    "# get match locations and probabilities\n",
    "min_val, max_val, min_loc, max_loc = cv.minMaxLoc(result)\n",
    "\n",
    "print('Best match top left position %s' % str(max_loc))\n",
    "print('Best match confidence %s' % str(max_val))"
   ]
  },
  {
   "cell_type": "code",
   "execution_count": 79,
   "metadata": {},
   "outputs": [
    {
     "name": "stdout",
     "output_type": "stream",
     "text": [
      "needle found\n"
     ]
    }
   ],
   "source": [
    "treshhold = 0.8\n",
    "\n",
    "if(max_val >= treshhold):\n",
    "    print('needle found')\n",
    "\n",
    "    needle_w = needle_img.shape[1]\n",
    "    needle_h = needle_img.shape[0]\n",
    "\n",
    "    top_left = max_loc\n",
    "    bottom_right = (top_left[0] + needle_w, top_left[1] + needle_h)\n",
    "\n",
    "    cv.rectangle(haystack_img, top_left, bottom_right, color=(0,0, 255), thickness=2, lineType=cv.LINE_4)\n",
    "\n",
    "    # cv.imshow('result',haystack_img)\n",
    "    # cv.waitKey(1000)\n",
    "    cv.imwrite('imgs/result.jpg', haystack_img)\n",
    "else:\n",
    "    print('needle not found')"
   ]
  }
 ],
 "metadata": {
  "kernelspec": {
   "display_name": "base",
   "language": "python",
   "name": "python3"
  },
  "language_info": {
   "codemirror_mode": {
    "name": "ipython",
    "version": 3
   },
   "file_extension": ".py",
   "mimetype": "text/x-python",
   "name": "python",
   "nbconvert_exporter": "python",
   "pygments_lexer": "ipython3",
   "version": "3.9.12"
  },
  "orig_nbformat": 4,
  "vscode": {
   "interpreter": {
    "hash": "f08154012ddadd8e950e6e9e035c7a7b32c136e7647e9b7c77e02eb723a8bedb"
   }
  }
 },
 "nbformat": 4,
 "nbformat_minor": 2
}
